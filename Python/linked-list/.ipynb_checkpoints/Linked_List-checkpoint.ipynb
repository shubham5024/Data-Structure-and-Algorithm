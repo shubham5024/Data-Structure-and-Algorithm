{
 "cells": [
  {
   "cell_type": "markdown",
   "metadata": {},
   "source": [
    "## Linked List Insertion"
   ]
  },
  {
   "cell_type": "code",
   "execution_count": 44,
   "metadata": {},
   "outputs": [],
   "source": [
    "class Node:\n",
    "    def __init__(self,data):\n",
    "        self.data=data\n",
    "        self.next=None\n",
    "        \n",
    "class Linked_List:\n",
    "    def __init__(self):\n",
    "        self.head=None\n",
    "    \n",
    "    def add(self,data):\n",
    "        node=Node(data)\n",
    "        node.next=self.head\n",
    "        self.head=node\n",
    "        \n",
    "    def display(self):\n",
    "        p=self.head\n",
    "        while(p):\n",
    "            print(p.data,end=\" \")\n",
    "            p=p.next\n",
    "            \n",
    "    def pop_key(self,data):\n",
    "        point=self.head\n",
    "        while(point):\n",
    "            if (point.data==data):\n",
    "                break\n",
    "            prev=point\n",
    "            point=point.next\n",
    "        prev.next=point.next\n",
    "        point=None"
   ]
  },
  {
   "cell_type": "code",
   "execution_count": 45,
   "metadata": {},
   "outputs": [
    {
     "name": "stdout",
     "output_type": "stream",
     "text": [
      "11 12 10 112 "
     ]
    }
   ],
   "source": [
    "ab=Linked_List()\n",
    "ab.add(112)\n",
    "ab.add(10)\n",
    "ab.add(12)\n",
    "ab.add(11)\n",
    "ab.display()"
   ]
  },
  {
   "cell_type": "code",
   "execution_count": 46,
   "metadata": {},
   "outputs": [],
   "source": [
    "ab.pop_key(10)"
   ]
  },
  {
   "cell_type": "code",
   "execution_count": 47,
   "metadata": {},
   "outputs": [
    {
     "name": "stdout",
     "output_type": "stream",
     "text": [
      "11 12 112 "
     ]
    }
   ],
   "source": [
    "ab.display()"
   ]
  },
  {
   "cell_type": "code",
   "execution_count": null,
   "metadata": {},
   "outputs": [],
   "source": []
  },
  {
   "cell_type": "code",
   "execution_count": null,
   "metadata": {},
   "outputs": [],
   "source": []
  },
  {
   "cell_type": "code",
   "execution_count": null,
   "metadata": {},
   "outputs": [],
   "source": []
  }
 ],
 "metadata": {
  "anaconda-cloud": {},
  "kernelspec": {
   "display_name": "Python [conda env:anaconda3]",
   "language": "python",
   "name": "conda-env-anaconda3-py"
  },
  "language_info": {
   "codemirror_mode": {
    "name": "ipython",
    "version": 3
   },
   "file_extension": ".py",
   "mimetype": "text/x-python",
   "name": "python",
   "nbconvert_exporter": "python",
   "pygments_lexer": "ipython3",
   "version": "3.5.5"
  }
 },
 "nbformat": 4,
 "nbformat_minor": 2
}
