{
 "cells": [
  {
   "cell_type": "markdown",
   "metadata": {},
   "source": [
    "## Linked List Insertion"
   ]
  },
  {
   "cell_type": "code",
   "execution_count": 37,
   "metadata": {},
   "outputs": [],
   "source": [
    "class Node:\n",
    "    def __init__(self,data):\n",
    "        self.data=data\n",
    "        self.next=None\n",
    "        \n",
    "class Linked_List:\n",
    "    def __init__(self):\n",
    "        self.head=None\n",
    "    \n",
    "    def insert(self,data):\n",
    "        node=Node(data)\n",
    "        node.next=self.head\n",
    "        self.head=node\n",
    "    \n",
    "    def insert_after(self,prev,data):\n",
    "        temp=self.head\n",
    "        while(temp):\n",
    "            if(temp.data==prev):\n",
    "                break\n",
    "            past=temp\n",
    "            temp=temp.next\n",
    "        \n",
    "        new_node=Node(data)\n",
    "        past.next=new_node\n",
    "        new_node.next=temp\n",
    "    \n",
    "    def append(self,data):\n",
    "        temp=self.head\n",
    "        while(temp):\n",
    "            prev=temp\n",
    "            temp=temp.next\n",
    "        prev.next=Node(data)\n",
    "        \n",
    "        \n",
    "    def display(self):\n",
    "        p=self.head\n",
    "        if (p is not None):\n",
    "            while(p):\n",
    "                print(p.data,end=\" \")\n",
    "                p=p.next\n",
    "        else:print(\"No_data\")\n",
    "    \n",
    "    def length_link_list(self):\n",
    "        count=0\n",
    "        temp=self.head\n",
    "        while(temp):\n",
    "            count=count+1\n",
    "            temp=temp.next\n",
    "        return count\n",
    "    \n",
    "    def recur_count(self,node):\n",
    "        if (not node):\n",
    "            return 0\n",
    "        else:\n",
    "            return 1 + self.recur_count(node.next)\n",
    "\n",
    "    def recur_len(self):\n",
    "        return self.recur_count(self.head)\n",
    "        \n",
    "    def search_link_list(self,data):\n",
    "        temp=self.head\n",
    "        while(temp):\n",
    "            if(temp.data==data):\n",
    "                return \"Found\"\n",
    "            temp=temp.next\n",
    "        return \"Not Found\"\n",
    "   \n",
    "    def search_llist(self,node,key):\n",
    "        if (not node):\n",
    "            return False\n",
    "        if (node.data==key):\n",
    "            return True\n",
    "        return self.search_llist(node.next,key)\n",
    "        \n",
    "    def pop_key(self,data):\n",
    "        point=self.head\n",
    "        while(point):\n",
    "            if (point.data==data):\n",
    "                break\n",
    "            prev=point\n",
    "            point=point.next\n",
    "        if (prev.next is not None):\n",
    "            prev.next=point.next\n",
    "            point=None\n",
    "    \n",
    "    def pop_pos(self,pos):\n",
    "        temp=self.head\n",
    "        for i in range(pos-1):\n",
    "            temp=temp.next\n",
    "        prev=temp\n",
    "        temp=temp.next\n",
    "        prev.next=temp.next\n",
    "        temp=None\n",
    "    def del_link_list(self):\n",
    "        temp=self.head\n",
    "        while(temp):\n",
    "            prev=temp.next\n",
    "            del temp.data\n",
    "            temp=prev\n",
    "        self.head=None\n"
   ]
  },
  {
   "cell_type": "code",
   "execution_count": 38,
   "metadata": {},
   "outputs": [
    {
     "name": "stdout",
     "output_type": "stream",
     "text": [
      "11 12 10 112 "
     ]
    }
   ],
   "source": [
    "ab=Linked_List()\n",
    "ab.insert(112)\n",
    "ab.insert(10)\n",
    "ab.insert(12)\n",
    "ab.insert(11)\n",
    "ab.display()"
   ]
  },
  {
   "cell_type": "code",
   "execution_count": 39,
   "metadata": {},
   "outputs": [
    {
     "name": "stdout",
     "output_type": "stream",
     "text": [
      "11 12 15 10 112 "
     ]
    }
   ],
   "source": [
    "ab.insert_after(10,15)\n",
    "ab.display()"
   ]
  },
  {
   "cell_type": "code",
   "execution_count": 40,
   "metadata": {},
   "outputs": [
    {
     "name": "stdout",
     "output_type": "stream",
     "text": [
      "11 12 15 10 112 88 "
     ]
    }
   ],
   "source": [
    "ab.append(88)\n",
    "ab.display()"
   ]
  },
  {
   "cell_type": "code",
   "execution_count": 41,
   "metadata": {},
   "outputs": [
    {
     "data": {
      "text/plain": [
       "6"
      ]
     },
     "execution_count": 41,
     "metadata": {},
     "output_type": "execute_result"
    }
   ],
   "source": [
    "ab.length_link_list()"
   ]
  },
  {
   "cell_type": "code",
   "execution_count": 42,
   "metadata": {},
   "outputs": [
    {
     "data": {
      "text/plain": [
       "6"
      ]
     },
     "execution_count": 42,
     "metadata": {},
     "output_type": "execute_result"
    }
   ],
   "source": [
    "ab.recur_len()"
   ]
  },
  {
   "cell_type": "code",
   "execution_count": 43,
   "metadata": {},
   "outputs": [
    {
     "data": {
      "text/plain": [
       "'Found'"
      ]
     },
     "execution_count": 43,
     "metadata": {},
     "output_type": "execute_result"
    }
   ],
   "source": [
    "ab.search_link_list(10)"
   ]
  },
  {
   "cell_type": "code",
   "execution_count": 45,
   "metadata": {},
   "outputs": [
    {
     "data": {
      "text/plain": [
       "True"
      ]
     },
     "execution_count": 45,
     "metadata": {},
     "output_type": "execute_result"
    }
   ],
   "source": [
    "ab.search_llist(ab.head,10)"
   ]
  },
  {
   "cell_type": "code",
   "execution_count": 46,
   "metadata": {},
   "outputs": [
    {
     "name": "stdout",
     "output_type": "stream",
     "text": [
      "11 12 15 112 88 "
     ]
    }
   ],
   "source": [
    "ab.pop_key(10)\n",
    "ab.display()"
   ]
  },
  {
   "cell_type": "code",
   "execution_count": 47,
   "metadata": {},
   "outputs": [
    {
     "name": "stdout",
     "output_type": "stream",
     "text": [
      "11 15 112 88 "
     ]
    }
   ],
   "source": [
    "ab.pop_pos(1)\n",
    "ab.display()"
   ]
  },
  {
   "cell_type": "code",
   "execution_count": 48,
   "metadata": {},
   "outputs": [
    {
     "name": "stdout",
     "output_type": "stream",
     "text": [
      "No_data\n"
     ]
    }
   ],
   "source": [
    "ab.del_link_list()\n",
    "ab.display()"
   ]
  },
  {
   "cell_type": "code",
   "execution_count": null,
   "metadata": {},
   "outputs": [],
   "source": []
  }
 ],
 "metadata": {
  "anaconda-cloud": {},
  "kernelspec": {
   "display_name": "Python [conda env:anaconda3]",
   "language": "python",
   "name": "conda-env-anaconda3-py"
  },
  "language_info": {
   "codemirror_mode": {
    "name": "ipython",
    "version": 3
   },
   "file_extension": ".py",
   "mimetype": "text/x-python",
   "name": "python",
   "nbconvert_exporter": "python",
   "pygments_lexer": "ipython3",
   "version": "3.5.5"
  }
 },
 "nbformat": 4,
 "nbformat_minor": 2
}
